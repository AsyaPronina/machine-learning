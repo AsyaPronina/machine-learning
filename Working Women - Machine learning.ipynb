{
 "cells": [
  {
   "cell_type": "markdown",
   "metadata": {
    "collapsed": true
   },
   "source": [
    "   ## Working women\n",
    "   \n",
    "   ### Characteristics used for predict employment of women:\n",
    "\n",
    "   * Age - AGEP\n",
    "   * Presence of children - PAOC\n",
    "   * Education level - SCHL\n",
    "   * Marital status - MAR\n",
    "   * Gave birth to child within the past 12 months - FER\n"
   ]
  },
  {
   "cell_type": "markdown",
   "metadata": {
    "collapsed": true
   },
   "source": [
    "### Reading data"
   ]
  },
  {
   "cell_type": "code",
   "execution_count": 5,
   "metadata": {
    "collapsed": false
   },
   "outputs": [],
   "source": [
    "import pandas as pd\n",
    "\n",
    "cols = ['AGEP', 'PAOC', 'SCHL', 'MAR', 'FER']\n",
    "dataset = pd.read_csv('Machine_learning\\Population\\ss13pusa.csv', chunksize=1000, usecols=cols)\n",
    "\n",
    "df = pd.DataFrame(columns=cols)\n",
    "\n",
    "\n",
    "while True:\n",
    "    try:\n",
    "        sub_df = dataset.get_chunk()\n",
    "        df = pd.concat([sub_df, df])\n",
    "    except:\n",
    "        break"
   ]
  },
  {
   "cell_type": "markdown",
   "metadata": {
    "collapsed": true
   },
   "source": [
    "### SVM example"
   ]
  },
  {
   "cell_type": "code",
   "execution_count": 1,
   "metadata": {
    "collapsed": false
   },
   "outputs": [
    {
     "name": "stdout",
     "output_type": "stream",
     "text": [
      "[[0, 0], [5, 5], [4, 4], [6, 6]]\n",
      "[[8, 8], [3, 3], [2, 2], [7, 7]]\n",
      "[0.5, 5.5, 4.5, 6.5]\n",
      "[8.5, 3.5, 2.5, 7.5]\n"
     ]
    }
   ],
   "source": [
    "from sklearn.cross_validation import train_test_split\n",
    "\n",
    "X = [[0, 0], [2, 2], [3, 3], [4, 4], [5, 5], [6, 6], [7, 7], [8, 8]]\n",
    "y = [0.5, 2.5, 3.5, 4.5, 5.5, 6.5, 7.5, 8.5]\n",
    "\n",
    "X_train, X_test, y_train, y_test = train_test_split(X, y, test_size = 0.5, random_state = 1)\n",
    "\n",
    "print X_train\n",
    "print X_test\n",
    "print y_train\n",
    "print y_test"
   ]
  },
  {
   "cell_type": "code",
   "execution_count": 2,
   "metadata": {
    "collapsed": false
   },
   "outputs": [
    {
     "data": {
      "text/plain": [
       "SVR(C=1.0, cache_size=200, coef0=0.0, degree=3, epsilon=0.1, gamma=0.0,\n",
       "  kernel='rbf', max_iter=-1, shrinking=True, tol=0.001, verbose=False)"
      ]
     },
     "execution_count": 2,
     "metadata": {},
     "output_type": "execute_result"
    }
   ],
   "source": [
    "from sklearn.svm import SVR\n",
    "\n",
    "prd = SVR()\n",
    "prd.fit(X_train, y_train) "
   ]
  },
  {
   "cell_type": "code",
   "execution_count": 3,
   "metadata": {
    "collapsed": false
   },
   "outputs": [
    {
     "name": "stdout",
     "output_type": "stream",
     "text": [
      "[ 3.80690247  5.39999999  4.6         5.93144849]\n"
     ]
    }
   ],
   "source": [
    "Y = prd.predict(X_train)\n",
    "print Y"
   ]
  },
  {
   "cell_type": "code",
   "execution_count": 4,
   "metadata": {
    "collapsed": false
   },
   "outputs": [
    {
     "name": "stdout",
     "output_type": "stream",
     "text": [
      "1.0\n"
     ]
    }
   ],
   "source": [
    "import numpy as np\n",
    "\n",
    "err_train = np.mean(y_train != Y)\n",
    "print err_train"
   ]
  }
 ],
 "metadata": {
  "kernelspec": {
   "display_name": "Python 2",
   "language": "python",
   "name": "python2"
  },
  "language_info": {
   "codemirror_mode": {
    "name": "ipython",
    "version": 2
   },
   "file_extension": ".py",
   "mimetype": "text/x-python",
   "name": "python",
   "nbconvert_exporter": "python",
   "pygments_lexer": "ipython2",
   "version": "2.7.10"
  }
 },
 "nbformat": 4,
 "nbformat_minor": 0
}
